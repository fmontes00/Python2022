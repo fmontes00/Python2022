{
 "cells": [
  {
   "cell_type": "markdown",
   "id": "073bbfa8",
   "metadata": {},
   "source": [
    "#                           Trabajo Practico 2 Ejercicio 10     "
   ]
  },
  {
   "cell_type": "markdown",
   "id": "0eb0d1a0",
   "metadata": {},
   "source": [
    "Con with open() abro el archivo y al finalizar lo cierro incluso si se produce una excepcion"
   ]
  },
  {
   "cell_type": "code",
   "execution_count": 1,
   "id": "20941eba",
   "metadata": {},
   "outputs": [],
   "source": [
    "with open(\"nombres_1.txt\") as nombres:\n",
    "    lista_nombres = nombres.read().replace(\",\",\"\").replace(\"'\",\"\").replace(\" \",\"\").splitlines()"
   ]
  },
  {
   "cell_type": "markdown",
   "id": "c5c77e64",
   "metadata": {},
   "source": [
    "-En el caso de los archivos de notas ambas se encuentran en formato de string , para poder trabajar con ellas previamente a almacenarlas se las convierte en enteros con la funcion int()"
   ]
  },
  {
   "cell_type": "code",
   "execution_count": 2,
   "id": "d5b488d7",
   "metadata": {},
   "outputs": [],
   "source": [
    "with open(\"eval1.txt\") as notas1:\n",
    "    lista_notas1 = list(map(int, notas1.read().replace(\",\",\"\").replace(\" \",\"\").splitlines()))"
   ]
  },
  {
   "cell_type": "code",
   "execution_count": 3,
   "id": "9abffbb3",
   "metadata": {},
   "outputs": [],
   "source": [
    "with open(\"eval2.txt\") as notas2:\n",
    "    lista_notas2 = list(map(int, notas2.read().replace(\",\",\"\").replace(\" \",\"\").splitlines()))"
   ]
  },
  {
   "cell_type": "markdown",
   "id": "d2c3338e",
   "metadata": {},
   "source": [
    "-Con la funcion zip() combino los valores de ambas listas de notas en una sola lista y los sumo en un unico valor"
   ]
  },
  {
   "cell_type": "code",
   "execution_count": 4,
   "id": "919ce94d",
   "metadata": {},
   "outputs": [],
   "source": [
    "notas_combinadas = [x + y for (x, y) in zip(lista_notas1, lista_notas2)]"
   ]
  },
  {
   "cell_type": "markdown",
   "id": "b0eeca96",
   "metadata": {},
   "source": [
    "-Este caso es similar al anterior con la excepcion de que se guardan los datos en un diccionario , las keys\n",
    "corresponden al nombre de los alumnos y los values a las notas totales"
   ]
  },
  {
   "cell_type": "code",
   "execution_count": 5,
   "id": "1eb56103",
   "metadata": {},
   "outputs": [],
   "source": [
    "nombres_notas ={key : value for (key, value) in zip(lista_nombres, notas_combinadas)}"
   ]
  },
  {
   "cell_type": "code",
   "execution_count": 6,
   "id": "e66a0dfd",
   "metadata": {},
   "outputs": [
    {
     "data": {
      "text/plain": [
       "{'Agustin': 111,\n",
       " 'Alan': 155,\n",
       " 'Andrés': 100,\n",
       " 'Ariadna': 108,\n",
       " 'Bautista': 99,\n",
       " 'CAROLINA': 134,\n",
       " 'CESAR': 78,\n",
       " 'David': 121,\n",
       " 'Diego': 33,\n",
       " 'Dolores': 53,\n",
       " 'DYLAN': 74,\n",
       " 'ELIANA': 13,\n",
       " 'Emanuel': 48,\n",
       " 'Fabián': 101,\n",
       " 'Facundo': 128,\n",
       " 'FEDERICO': 106,\n",
       " 'GONZALO': 76,\n",
       " 'Gregorio': 90,\n",
       " 'Ignacio': 21,\n",
       " 'Jonathan': 62,\n",
       " 'Jorge': 79,\n",
       " 'JOSE': 100,\n",
       " 'JUAN': 68,\n",
       " 'Juan': 112,\n",
       " 'Julian': 87,\n",
       " 'Julieta': 146,\n",
       " 'LAUTARO': 148,\n",
       " 'Leonel': 55,\n",
       " 'LUIS': 140,\n",
       " 'Luis': 109,\n",
       " 'Marcos': 103,\n",
       " 'María': 110,\n",
       " 'MATEO': 137,\n",
       " 'Matias': 114,\n",
       " 'Nicolás': 65,\n",
       " 'NICOLÁS': 22,\n",
       " 'Noelia': 105,\n",
       " 'Pablo': 99,\n",
       " 'Priscila': 24,\n",
       " 'TOMAS': 139,\n",
       " 'Tomás': 126,\n",
       " 'Ulises': 120,\n",
       " 'Yanina': 84}"
      ]
     },
     "execution_count": 6,
     "metadata": {},
     "output_type": "execute_result"
    }
   ],
   "source": [
    "nombres_notas"
   ]
  },
  {
   "cell_type": "markdown",
   "id": "4ce9a49a",
   "metadata": {},
   "source": [
    "-El promedio general se obtiene sumando todos los valores de la lista de notas combinadas dividido la longitud de la misma"
   ]
  },
  {
   "cell_type": "code",
   "execution_count": 7,
   "id": "c776e648",
   "metadata": {},
   "outputs": [
    {
     "data": {
      "text/plain": [
       "96.19148936170212"
      ]
     },
     "execution_count": 7,
     "metadata": {},
     "output_type": "execute_result"
    }
   ],
   "source": [
    "promedio = sum(notas_combinadas) / len(notas_combinadas)\n",
    "promedio"
   ]
  },
  {
   "cell_type": "markdown",
   "id": "1944ef76",
   "metadata": {},
   "source": [
    "-Creo un nuevo diccionario en base al anterior pero solo si las notas totales no superan el promedio"
   ]
  },
  {
   "cell_type": "code",
   "execution_count": 8,
   "id": "9c37e146",
   "metadata": {},
   "outputs": [],
   "source": [
    "alumnos_notas_bajas = {key : value for (key, value) in nombres_notas.items() if value < promedio}"
   ]
  },
  {
   "cell_type": "code",
   "execution_count": 9,
   "id": "5d8f6d68",
   "metadata": {},
   "outputs": [
    {
     "data": {
      "text/plain": [
       "{'CESAR': 78,\n",
       " 'Diego': 33,\n",
       " 'Dolores': 53,\n",
       " 'DYLAN': 74,\n",
       " 'ELIANA': 13,\n",
       " 'Emanuel': 48,\n",
       " 'GONZALO': 76,\n",
       " 'Gregorio': 90,\n",
       " 'Ignacio': 21,\n",
       " 'Jonathan': 62,\n",
       " 'Jorge': 79,\n",
       " 'JUAN': 68,\n",
       " 'Julian': 87,\n",
       " 'Leonel': 55,\n",
       " 'Nicolás': 65,\n",
       " 'NICOLÁS': 22,\n",
       " 'Priscila': 24,\n",
       " 'Yanina': 84}"
      ]
     },
     "execution_count": 9,
     "metadata": {},
     "output_type": "execute_result"
    }
   ],
   "source": [
    "alumnos_notas_bajas"
   ]
  }
 ],
 "metadata": {
  "kernelspec": {
   "display_name": "Python 3 (ipykernel)",
   "language": "python",
   "name": "python3"
  },
  "language_info": {
   "codemirror_mode": {
    "name": "ipython",
    "version": 3
   },
   "file_extension": ".py",
   "mimetype": "text/x-python",
   "name": "python",
   "nbconvert_exporter": "python",
   "pygments_lexer": "ipython3",
   "version": "3.8.10"
  }
 },
 "nbformat": 4,
 "nbformat_minor": 5
}
